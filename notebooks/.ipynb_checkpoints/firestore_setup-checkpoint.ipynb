{
 "cells": [
  {
   "cell_type": "code",
   "execution_count": 1,
   "id": "44b0baac-dbcc-4def-a993-fdaf25561192",
   "metadata": {},
   "outputs": [
    {
     "name": "stdout",
     "output_type": "stream",
     "text": [
      "Error initializing Firebase Admin SDK: [Errno 22] Invalid argument: '\"G:\\\\FIRESTOREKEYS\\\\english-language-art-helper-firebase-adminsdk-fbsvc-e5e8256254.json\"'\n",
      "Please ensure your service account key JSON file is correctly placed and the path is updated.\n"
     ]
    },
    {
     "ename": "ValueError",
     "evalue": "The default Firebase app does not exist. Make sure to initialize the SDK by calling initialize_app().",
     "output_type": "error",
     "traceback": [
      "\u001b[1;31m---------------------------------------------------------------------------\u001b[0m",
      "\u001b[1;31mValueError\u001b[0m                                Traceback (most recent call last)",
      "Cell \u001b[1;32mIn[1], line 26\u001b[0m\n\u001b[0;32m     21\u001b[0m     \u001b[38;5;28mprint\u001b[39m(\u001b[38;5;124m\"\u001b[39m\u001b[38;5;124mPlease ensure your service account key JSON file is correctly placed and the path is updated.\u001b[39m\u001b[38;5;124m\"\u001b[39m)\n\u001b[0;32m     22\u001b[0m     \u001b[38;5;66;03m# In a notebook, you might want to raise the exception or handle it differently\u001b[39;00m\n\u001b[0;32m     23\u001b[0m     \u001b[38;5;66;03m# For now, we'll just print and potentially exit if we were in a script.\u001b[39;00m\n\u001b[0;32m     24\u001b[0m     \u001b[38;5;66;03m# If this cell fails, subsequent cells will also fail.\u001b[39;00m\n\u001b[1;32m---> 26\u001b[0m db \u001b[38;5;241m=\u001b[39m \u001b[43mfirestore\u001b[49m\u001b[38;5;241;43m.\u001b[39;49m\u001b[43mclient\u001b[49m\u001b[43m(\u001b[49m\u001b[43m)\u001b[49m\n\u001b[0;32m     27\u001b[0m \u001b[38;5;28mprint\u001b[39m(\u001b[38;5;124m\"\u001b[39m\u001b[38;5;124mFirestore client obtained.\u001b[39m\u001b[38;5;124m\"\u001b[39m)\n",
      "File \u001b[1;32mG:\\AICodeRepo\\english-language-helper\\.venv\\Lib\\site-packages\\firebase_admin\\firestore.py:64\u001b[0m, in \u001b[0;36mclient\u001b[1;34m(app, database_id)\u001b[0m\n\u001b[0;32m     62\u001b[0m \u001b[38;5;28;01mif\u001b[39;00m database_id \u001b[38;5;129;01mis\u001b[39;00m \u001b[38;5;129;01mnot\u001b[39;00m \u001b[38;5;28;01mNone\u001b[39;00m \u001b[38;5;129;01mand\u001b[39;00m \u001b[38;5;129;01mnot\u001b[39;00m \u001b[38;5;28misinstance\u001b[39m(database_id, \u001b[38;5;28mstr\u001b[39m):\n\u001b[0;32m     63\u001b[0m     \u001b[38;5;28;01mraise\u001b[39;00m \u001b[38;5;167;01mValueError\u001b[39;00m(\u001b[38;5;124mf\u001b[39m\u001b[38;5;124m'\u001b[39m\u001b[38;5;124mdatabase_id \u001b[39m\u001b[38;5;124m\"\u001b[39m\u001b[38;5;132;01m{\u001b[39;00mdatabase_id\u001b[38;5;132;01m}\u001b[39;00m\u001b[38;5;124m\"\u001b[39m\u001b[38;5;124m must be a string or None.\u001b[39m\u001b[38;5;124m'\u001b[39m)\n\u001b[1;32m---> 64\u001b[0m fs_service \u001b[38;5;241m=\u001b[39m \u001b[43m_utils\u001b[49m\u001b[38;5;241;43m.\u001b[39;49m\u001b[43mget_app_service\u001b[49m\u001b[43m(\u001b[49m\u001b[43mapp\u001b[49m\u001b[43m,\u001b[49m\u001b[43m \u001b[49m\u001b[43m_FIRESTORE_ATTRIBUTE\u001b[49m\u001b[43m,\u001b[49m\u001b[43m \u001b[49m\u001b[43m_FirestoreService\u001b[49m\u001b[43m)\u001b[49m\n\u001b[0;32m     65\u001b[0m \u001b[38;5;28;01mreturn\u001b[39;00m fs_service\u001b[38;5;241m.\u001b[39mget_client(database_id)\n",
      "File \u001b[1;32mG:\\AICodeRepo\\english-language-helper\\.venv\\Lib\\site-packages\\firebase_admin\\_utils.py:102\u001b[0m, in \u001b[0;36mget_app_service\u001b[1;34m(app, name, initializer)\u001b[0m\n\u001b[0;32m    101\u001b[0m \u001b[38;5;28;01mdef\u001b[39;00m\u001b[38;5;250m \u001b[39m\u001b[38;5;21mget_app_service\u001b[39m(app, name, initializer):\n\u001b[1;32m--> 102\u001b[0m     app \u001b[38;5;241m=\u001b[39m \u001b[43m_get_initialized_app\u001b[49m\u001b[43m(\u001b[49m\u001b[43mapp\u001b[49m\u001b[43m)\u001b[49m\n\u001b[0;32m    103\u001b[0m     \u001b[38;5;28;01mreturn\u001b[39;00m app\u001b[38;5;241m.\u001b[39m_get_service(name, initializer)\n",
      "File \u001b[1;32mG:\\AICodeRepo\\english-language-helper\\.venv\\Lib\\site-packages\\firebase_admin\\_utils.py:87\u001b[0m, in \u001b[0;36m_get_initialized_app\u001b[1;34m(app)\u001b[0m\n\u001b[0;32m     85\u001b[0m \u001b[38;5;250m\u001b[39m\u001b[38;5;124;03m\"\"\"Returns a reference to an initialized App instance.\"\"\"\u001b[39;00m\n\u001b[0;32m     86\u001b[0m \u001b[38;5;28;01mif\u001b[39;00m app \u001b[38;5;129;01mis\u001b[39;00m \u001b[38;5;28;01mNone\u001b[39;00m:\n\u001b[1;32m---> 87\u001b[0m     \u001b[38;5;28;01mreturn\u001b[39;00m \u001b[43mfirebase_admin\u001b[49m\u001b[38;5;241;43m.\u001b[39;49m\u001b[43mget_app\u001b[49m\u001b[43m(\u001b[49m\u001b[43m)\u001b[49m\n\u001b[0;32m     89\u001b[0m \u001b[38;5;28;01mif\u001b[39;00m \u001b[38;5;28misinstance\u001b[39m(app, firebase_admin\u001b[38;5;241m.\u001b[39mApp):\n\u001b[0;32m     90\u001b[0m     initialized_app \u001b[38;5;241m=\u001b[39m firebase_admin\u001b[38;5;241m.\u001b[39mget_app(app\u001b[38;5;241m.\u001b[39mname)\n",
      "File \u001b[1;32mG:\\AICodeRepo\\english-language-helper\\.venv\\Lib\\site-packages\\firebase_admin\\__init__.py:138\u001b[0m, in \u001b[0;36mget_app\u001b[1;34m(name)\u001b[0m\n\u001b[0;32m    135\u001b[0m         \u001b[38;5;28;01mreturn\u001b[39;00m _apps[name]\n\u001b[0;32m    137\u001b[0m \u001b[38;5;28;01mif\u001b[39;00m name \u001b[38;5;241m==\u001b[39m _DEFAULT_APP_NAME:\n\u001b[1;32m--> 138\u001b[0m     \u001b[38;5;28;01mraise\u001b[39;00m \u001b[38;5;167;01mValueError\u001b[39;00m(\n\u001b[0;32m    139\u001b[0m         \u001b[38;5;124m'\u001b[39m\u001b[38;5;124mThe default Firebase app does not exist. Make sure to initialize \u001b[39m\u001b[38;5;124m'\u001b[39m\n\u001b[0;32m    140\u001b[0m         \u001b[38;5;124m'\u001b[39m\u001b[38;5;124mthe SDK by calling initialize_app().\u001b[39m\u001b[38;5;124m'\u001b[39m)\n\u001b[0;32m    142\u001b[0m \u001b[38;5;28;01mraise\u001b[39;00m \u001b[38;5;167;01mValueError\u001b[39;00m(\n\u001b[0;32m    143\u001b[0m     (\u001b[38;5;124m'\u001b[39m\u001b[38;5;124mFirebase app named \u001b[39m\u001b[38;5;124m\"\u001b[39m\u001b[38;5;132;01m{0}\u001b[39;00m\u001b[38;5;124m\"\u001b[39m\u001b[38;5;124m does not exist. Make sure to initialize \u001b[39m\u001b[38;5;124m'\u001b[39m\n\u001b[0;32m    144\u001b[0m      \u001b[38;5;124m'\u001b[39m\u001b[38;5;124mthe SDK by calling initialize_app() with your app name as the \u001b[39m\u001b[38;5;124m'\u001b[39m\n\u001b[0;32m    145\u001b[0m      \u001b[38;5;124m'\u001b[39m\u001b[38;5;124msecond argument.\u001b[39m\u001b[38;5;124m'\u001b[39m)\u001b[38;5;241m.\u001b[39mformat(name))\n",
      "\u001b[1;31mValueError\u001b[0m: The default Firebase app does not exist. Make sure to initialize the SDK by calling initialize_app()."
     ]
    }
   ],
   "source": [
    "# Cell 1: Imports and Firebase Initialization\n",
    "import firebase_admin\n",
    "from firebase_admin import credentials\n",
    "from firebase_admin import firestore\n",
    "import datetime # For Timestamps\n",
    "\n",
    "# --- IMPORTANT SETUP ---\n",
    "# Replace 'path/to/your/serviceAccountKey.json' with the actual path to your downloaded key\n",
    "CRED_PATH = '\"G:/FIRESTOREKEYS/english-language-art-helper-firebase-adminsdk-fbsvc-e5e8256254.json\"' # MAKE SURE TO UPDATE THIS\n",
    "\n",
    "try:\n",
    "    # Check if the app is already initialized to prevent re-initialization error in Notebooks\n",
    "    if not firebase_admin._apps:\n",
    "        cred = credentials.Certificate(CRED_PATH)\n",
    "        firebase_admin.initialize_app(cred)\n",
    "        print(\"Firebase Admin SDK initialized successfully.\")\n",
    "    else:\n",
    "        print(\"Firebase Admin SDK already initialized.\")\n",
    "except Exception as e:\n",
    "    print(f\"Error initializing Firebase Admin SDK: {e}\")\n",
    "    print(\"Please ensure your service account key JSON file is correctly placed and the path is updated.\")\n",
    "    # In a notebook, you might want to raise the exception or handle it differently\n",
    "    # For now, we'll just print and potentially exit if we were in a script.\n",
    "    # If this cell fails, subsequent cells will also fail.\n",
    "\n",
    "db = firestore.client()\n",
    "print(\"Firestore client obtained.\")\n"
   ]
  }
 ],
 "metadata": {
  "kernelspec": {
   "display_name": "Python 3 (ipykernel)",
   "language": "python",
   "name": "python3"
  },
  "language_info": {
   "codemirror_mode": {
    "name": "ipython",
    "version": 3
   },
   "file_extension": ".py",
   "mimetype": "text/x-python",
   "name": "python",
   "nbconvert_exporter": "python",
   "pygments_lexer": "ipython3",
   "version": "3.10.13"
  }
 },
 "nbformat": 4,
 "nbformat_minor": 5
}
