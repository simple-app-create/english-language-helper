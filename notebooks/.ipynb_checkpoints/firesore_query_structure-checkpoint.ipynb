{
 "cells": [
  {
   "cell_type": "code",
   "execution_count": 2,
   "id": "68b26c24-1135-466e-a857-8b02d241095b",
   "metadata": {},
   "outputs": [
    {
     "name": "stdout",
     "output_type": "stream",
     "text": [
      "Firebase Admin SDK initialized successfully.\n",
      "Firestore client obtained.\n"
     ]
    }
   ],
   "source": [
    "# Cell 1: Imports and Firebase Initialization\n",
    "import firebase_admin\n",
    "from firebase_admin import credentials\n",
    "from firebase_admin import firestore\n",
    "import datetime # For Timestamps\n",
    "\n",
    "# --- IMPORTANT SETUP ---\n",
    "# Replace 'path/to/your/serviceAccountKey.json' with the actual path to your downloaded key\n",
    "CRED_PATH = \"G:/FIRESTOREKEYS/english-language-art-helper-firebase-adminsdk-fbsvc-e5e8256254.json\" # MAKE SURE TO UPDATE THIS\n",
    "\n",
    "try:\n",
    "    # Check if the app is already initialized to prevent re-initialization error in Notebooks\n",
    "    if not firebase_admin._apps:\n",
    "        cred = credentials.Certificate(CRED_PATH)\n",
    "        firebase_admin.initialize_app(cred)\n",
    "        print(\"Firebase Admin SDK initialized successfully.\")\n",
    "    else:\n",
    "        print(\"Firebase Admin SDK already initialized.\")\n",
    "except Exception as e:\n",
    "    print(f\"Error initializing Firebase Admin SDK: {e}\")\n",
    "    print(\"Please ensure your service account key JSON file is correctly placed and the path is updated.\")\n",
    "    # In a notebook, you might want to raise the exception or handle it differently\n",
    "    # For now, we'll just print and potentially exit if we were in a script.\n",
    "    # If this cell fails, subsequent cells will also fail.\n",
    "\n",
    "db = firestore.client()\n",
    "print(\"Firestore client obtained.\")\n",
    "    "
   ]
  },
  {
   "cell_type": "code",
   "execution_count": 3,
   "id": "bfbf8250-5ea5-4515-9b18-f0d4ed1273cb",
   "metadata": {},
   "outputs": [
    {
     "name": "stdout",
     "output_type": "stream",
     "text": [
      "Document data for sustainability_article_01:\n",
      "{\n",
      "  \"hasComprehensionQuestions\": true,\n",
      "  \"content\": \"Sustainable practices are crucial for the future of our planet...\",\n",
      "  \"title\": \"The Importance of Sustainable Practices\",\n",
      "  \"sourceUrl\": \"http://example.com/sustainability\",\n",
      "  \"scrapedAt\": \"2025-06-18 06:04:22.685000+00:00\",\n",
      "  \"tags\": [\n",
      "    \"environment\",\n",
      "    \"sustainability\"\n",
      "  ],\n",
      "  \"createdAt\": \"2025-06-18 06:04:22.685000+00:00\",\n",
      "  \"updatedAt\": \"2025-06-18 06:16:27.836000+00:00\",\n",
      "  \"levelIds\": [\n",
      "    \"gsat_english\"\n",
      "  ]\n",
      "}\n"
     ]
    }
   ],
   "source": [
    "    # Ensure Firebase Admin SDK is initialized (like in Cell 1 of your notebook)\n",
    "    # import firebase_admin\n",
    "    # from firebase_admin import credentials, firestore\n",
    "    # if not firebase_admin._apps:\n",
    "    #     cred = credentials.Certificate(\"path/to/your/serviceAccountKey.json\")\n",
    "    #     firebase_admin.initialize_app(cred)\n",
    "    # db = firestore.client()\n",
    "\n",
    "    doc_ref = db.collection('articles').document('sustainability_article_01') # Or any other document path\n",
    "    doc = doc_ref.get()\n",
    "\n",
    "    if doc.exists:\n",
    "        print(f\"Document data for {doc.id}:\")\n",
    "        import json\n",
    "        # Convert Firestore document to a Python dictionary, then to a JSON string\n",
    "        # Timestamps will be datetime objects, json.dumps might need a default handler for them\n",
    "        # or you can convert them to strings first if needed for pure JSON.\n",
    "        doc_data = doc.to_dict()\n",
    "        \n",
    "        # Simple way to handle datetimes for JSON serialization\n",
    "        def datetime_converter(o):\n",
    "            if isinstance(o, datetime.datetime):\n",
    "                return o.__str__() # Or o.isoformat()\n",
    "\n",
    "        print(json.dumps(doc_data, indent=2, default=datetime_converter))\n",
    "    else:\n",
    "        print('No such document!')\n",
    "    "
   ]
  },
  {
   "cell_type": "code",
   "execution_count": null,
   "id": "2505f8dc-8b62-4dd1-831b-06c42b6b626c",
   "metadata": {},
   "outputs": [],
   "source": []
  }
 ],
 "metadata": {
  "kernelspec": {
   "display_name": "Python 3 (ipykernel)",
   "language": "python",
   "name": "python3"
  },
  "language_info": {
   "codemirror_mode": {
    "name": "ipython",
    "version": 3
   },
   "file_extension": ".py",
   "mimetype": "text/x-python",
   "name": "python",
   "nbconvert_exporter": "python",
   "pygments_lexer": "ipython3",
   "version": "3.10.13"
  }
 },
 "nbformat": 4,
 "nbformat_minor": 5
}
